{
 "cells": [
  {
   "cell_type": "code",
   "execution_count": 5,
   "id": "5e0ce3ef",
   "metadata": {},
   "outputs": [],
   "source": [
    "from ultralytics import YOLO"
   ]
  },
  {
   "cell_type": "code",
   "execution_count": 1,
   "id": "0290769f",
   "metadata": {},
   "outputs": [],
   "source": [
    "import cv2\n",
    "\n",
    "# Open the video file or use a webcam\n",
    "video_path = \"basketball_video.mp4\"\n",
    "cap = cv2.VideoCapture(video_path)\n"
   ]
  },
  {
   "cell_type": "code",
   "execution_count": 3,
   "id": "ffb779b7",
   "metadata": {},
   "outputs": [],
   "source": [
    "# Read the first frame\n",
    "success, frame = cap.read()\n",
    "if not success:\n",
    "    exit()"
   ]
  },
  {
   "cell_type": "code",
   "execution_count": 4,
   "id": "d6411971",
   "metadata": {},
   "outputs": [
    {
     "name": "stdout",
     "output_type": "stream",
     "text": [
      "OpenCV version: 4.12.0\n",
      "Tracker not available in this version\n"
     ]
    }
   ],
   "source": [
    "# Check your OpenCV version\n",
    "print(\"OpenCV version:\", cv2.__version__)\n",
    "\n",
    "# For OpenCV 4.5.1+ - Try the legacy module\n",
    "try:\n",
    "    tracker = cv2.legacy.TrackerCSRT_create()\n",
    "    print(\"Using legacy trackers\")\n",
    "except AttributeError:\n",
    "    # For older versions (pre-4.5.1)\n",
    "    try:\n",
    "        tracker = cv2.TrackerCSRT_create()\n",
    "        print(\"Using standard tracker\")\n",
    "    except AttributeError:\n",
    "        print(\"Tracker not available in this version\")"
   ]
  },
  {
   "cell_type": "code",
   "execution_count": null,
   "id": "e1053988",
   "metadata": {},
   "outputs": [
    {
     "ename": "AttributeError",
     "evalue": "module 'cv2' has no attribute 'legacy'",
     "output_type": "error",
     "traceback": [
      "\u001b[1;31m---------------------------------------------------------------------------\u001b[0m",
      "\u001b[1;31mAttributeError\u001b[0m                            Traceback (most recent call last)",
      "Cell \u001b[1;32mIn[4], line 2\u001b[0m\n\u001b[0;32m      1\u001b[0m \u001b[38;5;66;03m# Initialize the tracker\u001b[39;00m\n\u001b[1;32m----> 2\u001b[0m tracker \u001b[38;5;241m=\u001b[39m \u001b[43mcv2\u001b[49m\u001b[38;5;241;43m.\u001b[39;49m\u001b[43mlegacy\u001b[49m\u001b[38;5;241m.\u001b[39mTrackerCSRT_create()  \u001b[38;5;66;03m# Note: Many trackers are in legacy\u001b[39;00m\n\u001b[0;32m      3\u001b[0m tracker\u001b[38;5;241m.\u001b[39minit(frame, bbox)\n\u001b[0;32m      5\u001b[0m \u001b[38;5;28;01mwhile\u001b[39;00m \u001b[38;5;28;01mTrue\u001b[39;00m:\n",
      "\u001b[1;31mAttributeError\u001b[0m: module 'cv2' has no attribute 'legacy'"
     ]
    },
    {
     "ename": "",
     "evalue": "",
     "output_type": "error",
     "traceback": [
      "\u001b[1;31mThe Kernel crashed while executing code in the current cell or a previous cell. \n",
      "\u001b[1;31mPlease review the code in the cell(s) to identify a possible cause of the failure. \n",
      "\u001b[1;31mClick <a href='https://aka.ms/vscodeJupyterKernelCrash'>here</a> for more info. \n",
      "\u001b[1;31mView Jupyter <a href='command:jupyter.viewOutput'>log</a> for further details."
     ]
    }
   ],
   "source": [
    "# Select the ROI (Region of Interest) - draw a box around the object to track\n",
    "bbox = cv2.selectROI(\"Select Object to Track\", frame, False)\n",
    "print(\"Selected Bounding Box:\", bbox)\n",
    "\n",
    "# Initialize the tracker\n",
    "tracker = cv2.legacy.TrackerCSRT_create()  # Note: Many trackers are in legacy\n",
    "tracker.init(frame, bbox)\n",
    "\n",
    "while True:\n",
    "    success, frame = cap.read()\n",
    "    if not success:\n",
    "        break\n",
    "\n",
    "    # Update the tracker\n",
    "    success, bbox = tracker.update(frame)\n",
    "\n",
    "    # If tracking was successful, draw the bounding box\n",
    "    if success:\n",
    "        (x, y, w, h) = [int(v) for v in bbox]\n",
    "        cv2.rectangle(frame, (x, y), (x + w, y + h), (0, 255, 0), 2)\n",
    "        cv2.putText(frame, \"Tracking\", (x, y-10), cv2.FONT_HERSHEY_SIMPLEX, 0.7, (0, 255, 0), 2)\n",
    "    else:\n",
    "        cv2.putText(frame, \"Tracking Failure\", (50, 50), cv2.FONT_HERSHEY_SIMPLEX, 0.7, (0, 0, 255), 2)\n",
    "\n",
    "    # Display the result\n",
    "    cv2.imshow(\"Object Tracking\", frame)\n",
    "\n",
    "    # Exit on 'q' press\n",
    "    if cv2.waitKey(1) & 0xFF == ord('q'):\n",
    "        break\n",
    "\n",
    "cap.release()\n",
    "cv2.destroyAllWindows()"
   ]
  }
 ],
 "metadata": {
  "kernelspec": {
   "display_name": "tf_env",
   "language": "python",
   "name": "python3"
  },
  "language_info": {
   "codemirror_mode": {
    "name": "ipython",
    "version": 3
   },
   "file_extension": ".py",
   "mimetype": "text/x-python",
   "name": "python",
   "nbconvert_exporter": "python",
   "pygments_lexer": "ipython3",
   "version": "3.12.11"
  }
 },
 "nbformat": 4,
 "nbformat_minor": 5
}
