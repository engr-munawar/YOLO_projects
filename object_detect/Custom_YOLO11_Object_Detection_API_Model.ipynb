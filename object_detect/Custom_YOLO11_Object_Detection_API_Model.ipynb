{
  "cells": [
    {
      "cell_type": "markdown",
      "metadata": {
        "id": "ITvEj5q_iNKz"
      },
      "source": [
        "## Custom YOLO11 Object Detection Model — Google Colab Version\n",
        "- Dataset: Downloaded from Roboflow via API (≥100 images)\n",
        "- Model: YOLO11n (nano)\n",
        "- Inference: Batch process 20 test images → output saved to folder\n",
        "- No manual image-by-image handling — fully automated!"
      ]
    },
    {
      "cell_type": "code",
      "execution_count": null,
      "metadata": {
        "id": "xcvXoiMOirOx"
      },
      "outputs": [],
      "source": [
        "# Install required packages\n",
        "!pip install ultralytics roboflow"
      ]
    },
    {
      "cell_type": "code",
      "execution_count": null,
      "metadata": {
        "colab": {
          "base_uri": "https://localhost:8080/"
        },
        "id": "jN4DxqNsjeaf",
        "outputId": "790c246b-f78f-4d8b-c65d-5ef69098be73"
      },
      "outputs": [
        {
          "name": "stdout",
          "output_type": "stream",
          "text": [
            "Creating new Ultralytics Settings v0.0.6 file ✅ \n",
            "View Ultralytics Settings with 'yolo settings' or at '/root/.config/Ultralytics/settings.json'\n",
            "Update Settings with 'yolo settings key=value', i.e. 'yolo settings runs_dir=path/to/dir'. For help see https://docs.ultralytics.com/quickstart/#ultralytics-settings.\n"
          ]
        }
      ],
      "source": [
        "# Import libraries\n",
        "from roboflow import Roboflow\n",
        "from ultralytics import YOLO\n",
        "import os\n",
        "import cv2"
      ]
    },
    {
      "cell_type": "code",
      "execution_count": null,
      "metadata": {
        "colab": {
          "base_uri": "https://localhost:8080/"
        },
        "id": "BpQesc-g9EpR",
        "outputId": "af0d7cb5-aaa2-4296-ed09-084a82050fde"
      },
      "outputs": [
        {
          "name": "stdout",
          "output_type": "stream",
          "text": [
            "Roboflow API key loaded\n"
          ]
        }
      ],
      "source": [
        "# load roboflow api key from Colab Secrets Manager\n",
        "from google.colab import userdata\n",
        "SECRET_KEY = userdata.get('ROBOFLOW_API_KEY')\n",
        "\n",
        "if SECRET_KEY is None:\n",
        "    raise ValueError(\"Roboflow API key not found in Colab Secrets Manager. Please add it with the name 'ROBOFLOW_API_KEY'.\")\n",
        "else:\n",
        "    print(\"Roboflow API key loaded\")"
      ]
    },
    {
      "cell_type": "code",
      "execution_count": null,
      "metadata": {
        "colab": {
          "base_uri": "https://localhost:8080/"
        },
        "id": "1JaLq-NujfOC",
        "outputId": "d6a4afeb-2473-49fd-a586-dac1fcba3efd"
      },
      "outputs": [
        {
          "name": "stdout",
          "output_type": "stream",
          "text": [
            "Downloading dataset from Roboflow...\n",
            "loading Roboflow workspace...\n",
            "loading Roboflow project...\n",
            "\n",
            "Version export complete for yolo11 format\n"
          ]
        },
        {
          "name": "stderr",
          "output_type": "stream",
          "text": [
            "Downloading Dataset Version Zip in Basketball-Players-1 to yolo11:: 100%|██████████| 33669/33669 [00:00<00:00, 52957.01it/s]"
          ]
        },
        {
          "name": "stdout",
          "output_type": "stream",
          "text": [
            "\n"
          ]
        },
        {
          "name": "stderr",
          "output_type": "stream",
          "text": [
            "\n",
            "Extracting Dataset Version Zip to Basketball-Players-1 in yolo11:: 100%|██████████| 352/352 [00:00<00:00, 4076.04it/s]"
          ]
        },
        {
          "name": "stdout",
          "output_type": "stream",
          "text": [
            "Dataset saved at: /content/drive/MyDrive/Datasets/basketball-players-fy4c2-e42zi-1\n"
          ]
        },
        {
          "name": "stderr",
          "output_type": "stream",
          "text": [
            "\n"
          ]
        }
      ],
      "source": [
        "# STEP 1: DOWNLOAD DATASET FROM ROBOFLOW USING API KEY\n",
        "\n",
        "RF_API_KEY = SECRET_KEY  # Use the variable holding the API key\n",
        "PROJECT_NAME = \"basketball-players-fy4c2-e42zi\" # project name from roboflow web\n",
        "VERSION = 1                           # dataset version number from roboflow web\n",
        "\n",
        "rf = Roboflow(api_key=RF_API_KEY) # Initialized Roboflow with the API key directly\n",
        "\n",
        "print(\"Downloading dataset from Roboflow...\")\n",
        "project = rf.workspace().project(PROJECT_NAME) # Access the workspace without arguments\n",
        "dataset = project.version(VERSION).download(\"yolo11\")  # Downloads as YOLO11 format\n",
        "\n",
        "dataset_path = f\"/content/drive/MyDrive/Datasets/{PROJECT_NAME}-{VERSION}\"  # Path to downloaded dataset - using project name and version for clarity\n",
        "print(f\"Dataset saved at: {dataset_path}\")"
      ]
    },
    {
      "cell_type": "code",
      "execution_count": null,
      "metadata": {
        "colab": {
          "background_save": true,
          "base_uri": "https://localhost:8080/"
        },
        "id": "gE_KErXijp2D",
        "outputId": "2cf3726b-5b59-45f8-c4aa-568f66123d6a"
      },
      "outputs": [
        {
          "name": "stdout",
          "output_type": "stream",
          "text": [
            "\n",
            "Starting training...\n",
            "Ultralytics 8.3.205 🚀 Python-3.12.11 torch-2.8.0+cu126 CUDA:0 (Tesla T4, 15095MiB)\n",
            "\u001b[34m\u001b[1mengine/trainer: \u001b[0magnostic_nms=False, amp=True, augment=False, auto_augment=randaugment, batch=16, bgr=0.0, box=7.5, cache=False, cfg=None, classes=None, close_mosaic=10, cls=0.5, compile=False, conf=None, copy_paste=0.0, copy_paste_mode=flip, cos_lr=False, cutmix=0.0, data=/content/Basketball-Players-1/data.yaml, degrees=0.0, deterministic=True, device=0, dfl=1.5, dnn=False, dropout=0.0, dynamic=False, embed=None, epochs=50, erasing=0.4, exist_ok=False, fliplr=0.5, flipud=0.0, format=torchscript, fraction=1.0, freeze=None, half=False, hsv_h=0.015, hsv_s=0.7, hsv_v=0.4, imgsz=640, int8=False, iou=0.7, keras=False, kobj=1.0, line_width=None, lr0=0.01, lrf=0.01, mask_ratio=4, max_det=300, mixup=0.0, mode=train, model=yolo11n.pt, momentum=0.937, mosaic=1.0, multi_scale=False, name=custom_yolo11n3, nbs=64, nms=False, opset=None, optimize=False, optimizer=auto, overlap_mask=True, patience=100, perspective=0.0, plots=True, pose=12.0, pretrained=True, profile=False, project=None, rect=False, resume=False, retina_masks=False, save=True, save_conf=False, save_crop=False, save_dir=/content/runs/detect/custom_yolo11n3, save_frames=False, save_json=False, save_period=-1, save_txt=False, scale=0.5, seed=0, shear=0.0, show=False, show_boxes=True, show_conf=True, show_labels=True, simplify=True, single_cls=False, source=None, split=val, stream_buffer=False, task=detect, time=None, tracker=botsort.yaml, translate=0.1, val=True, verbose=True, vid_stride=1, visualize=False, warmup_bias_lr=0.1, warmup_epochs=3.0, warmup_momentum=0.8, weight_decay=0.0005, workers=8, workspace=None\n",
            "\u001b[KDownloading https://ultralytics.com/assets/Arial.ttf to '/root/.config/Ultralytics/Arial.ttf': 100% ━━━━━━━━━━━━ 755.1KB 22.1MB/s 0.0s\n",
            "Overriding model.yaml nc=80 with nc=9\n",
            "\n",
            "                   from  n    params  module                                       arguments                     \n",
            "  0                  -1  1       464  ultralytics.nn.modules.conv.Conv             [3, 16, 3, 2]                 \n",
            "  1                  -1  1      4672  ultralytics.nn.modules.conv.Conv             [16, 32, 3, 2]                \n",
            "  2                  -1  1      6640  ultralytics.nn.modules.block.C3k2            [32, 64, 1, False, 0.25]      \n",
            "  3                  -1  1     36992  ultralytics.nn.modules.conv.Conv             [64, 64, 3, 2]                \n",
            "  4                  -1  1     26080  ultralytics.nn.modules.block.C3k2            [64, 128, 1, False, 0.25]     \n",
            "  5                  -1  1    147712  ultralytics.nn.modules.conv.Conv             [128, 128, 3, 2]              \n",
            "  6                  -1  1     87040  ultralytics.nn.modules.block.C3k2            [128, 128, 1, True]           \n",
            "  7                  -1  1    295424  ultralytics.nn.modules.conv.Conv             [128, 256, 3, 2]              \n",
            "  8                  -1  1    346112  ultralytics.nn.modules.block.C3k2            [256, 256, 1, True]           \n",
            "  9                  -1  1    164608  ultralytics.nn.modules.block.SPPF            [256, 256, 5]                 \n",
            " 10                  -1  1    249728  ultralytics.nn.modules.block.C2PSA           [256, 256, 1]                 \n",
            " 11                  -1  1         0  torch.nn.modules.upsampling.Upsample         [None, 2, 'nearest']          \n",
            " 12             [-1, 6]  1         0  ultralytics.nn.modules.conv.Concat           [1]                           \n",
            " 13                  -1  1    111296  ultralytics.nn.modules.block.C3k2            [384, 128, 1, False]          \n",
            " 14                  -1  1         0  torch.nn.modules.upsampling.Upsample         [None, 2, 'nearest']          \n",
            " 15             [-1, 4]  1         0  ultralytics.nn.modules.conv.Concat           [1]                           \n",
            " 16                  -1  1     32096  ultralytics.nn.modules.block.C3k2            [256, 64, 1, False]           \n",
            " 17                  -1  1     36992  ultralytics.nn.modules.conv.Conv             [64, 64, 3, 2]                \n",
            " 18            [-1, 13]  1         0  ultralytics.nn.modules.conv.Concat           [1]                           \n",
            " 19                  -1  1     86720  ultralytics.nn.modules.block.C3k2            [192, 128, 1, False]          \n",
            " 20                  -1  1    147712  ultralytics.nn.modules.conv.Conv             [128, 128, 3, 2]              \n",
            " 21            [-1, 10]  1         0  ultralytics.nn.modules.conv.Concat           [1]                           \n",
            " 22                  -1  1    378880  ultralytics.nn.modules.block.C3k2            [384, 256, 1, True]           \n",
            " 23        [16, 19, 22]  1    432427  ultralytics.nn.modules.head.Detect           [9, [64, 128, 256]]           \n",
            "YOLO11n summary: 181 layers, 2,591,595 parameters, 2,591,579 gradients, 6.4 GFLOPs\n",
            "\n",
            "Transferred 448/499 items from pretrained weights\n",
            "Freezing layer 'model.23.dfl.conv.weight'\n",
            "\u001b[34m\u001b[1mAMP: \u001b[0mrunning Automatic Mixed Precision (AMP) checks...\n",
            "\u001b[34m\u001b[1mAMP: \u001b[0mchecks passed ✅\n",
            "\u001b[34m\u001b[1mtrain: \u001b[0mFast image access ✅ (ping: 0.0±0.0 ms, read: 1923.1±554.8 MB/s, size: 229.4 KB)\n",
            "\u001b[K\u001b[34m\u001b[1mtrain: \u001b[0mScanning /content/Basketball-Players-1/train/labels... 114 images, 0 backgrounds, 0 corrupt: 100% ━━━━━━━━━━━━ 114/114 2.2Kit/s 0.1s\n",
            "\u001b[34m\u001b[1mtrain: \u001b[0mNew cache created: /content/Basketball-Players-1/train/labels.cache\n",
            "\u001b[34m\u001b[1malbumentations: \u001b[0mBlur(p=0.01, blur_limit=(3, 7)), MedianBlur(p=0.01, blur_limit=(3, 7)), ToGray(p=0.01, method='weighted_average', num_output_channels=3), CLAHE(p=0.01, clip_limit=(1.0, 4.0), tile_grid_size=(8, 8))\n",
            "\u001b[34m\u001b[1mval: \u001b[0mFast image access ✅ (ping: 0.0±0.0 ms, read: 1381.7±1175.5 MB/s, size: 224.0 KB)\n",
            "\u001b[K\u001b[34m\u001b[1mval: \u001b[0mScanning /content/Basketball-Players-1/valid/labels... 32 images, 0 backgrounds, 0 corrupt: 100% ━━━━━━━━━━━━ 32/32 1.4Kit/s 0.0s\n",
            "\u001b[34m\u001b[1mval: \u001b[0mNew cache created: /content/Basketball-Players-1/valid/labels.cache\n",
            "Plotting labels to /content/runs/detect/custom_yolo11n3/labels.jpg... \n",
            "\u001b[34m\u001b[1moptimizer:\u001b[0m 'optimizer=auto' found, ignoring 'lr0=0.01' and 'momentum=0.937' and determining best 'optimizer', 'lr0' and 'momentum' automatically... \n",
            "\u001b[34m\u001b[1moptimizer:\u001b[0m AdamW(lr=0.000769, momentum=0.9) with parameter groups 81 weight(decay=0.0), 88 weight(decay=0.0005), 87 bias(decay=0.0)\n",
            "Image sizes 640 train, 640 val\n",
            "Using 2 dataloader workers\n",
            "Logging results to \u001b[1m/content/runs/detect/custom_yolo11n3\u001b[0m\n",
            "Starting training for 50 epochs...\n",
            "\n",
            "      Epoch    GPU_mem   box_loss   cls_loss   dfl_loss  Instances       Size\n",
            "\u001b[K       1/50      2.62G      1.892      4.253      1.515         66        640: 100% ━━━━━━━━━━━━ 8/8 0.3it/s 23.0s\n",
            "\u001b[K                 Class     Images  Instances      Box(P          R      mAP50  mAP50-95): 100% ━━━━━━━━━━━━ 1/1 0.3it/s 3.8s\n",
            "                   all         32        477     0.0236     0.0136     0.0156    0.00862\n",
            "\n",
            "      Epoch    GPU_mem   box_loss   cls_loss   dfl_loss  Instances       Size\n",
            "\u001b[K       2/50      2.63G      1.572      3.915      1.315         30        640: 100% ━━━━━━━━━━━━ 8/8 3.7it/s 2.1s\n",
            "\u001b[K                 Class     Images  Instances      Box(P          R      mAP50  mAP50-95): 100% ━━━━━━━━━━━━ 1/1 5.6it/s 0.2s\n",
            "                   all         32        477      0.025     0.0606     0.0451     0.0244\n",
            "\n",
            "      Epoch    GPU_mem   box_loss   cls_loss   dfl_loss  Instances       Size\n",
            "\u001b[K       3/50      2.64G      1.652      3.565      1.257         43        640: 100% ━━━━━━━━━━━━ 8/8 4.2it/s 1.9s\n",
            "\u001b[K                 Class     Images  Instances      Box(P          R      mAP50  mAP50-95): 100% ━━━━━━━━━━━━ 1/1 5.0it/s 0.2s\n",
            "                   all         32        477     0.0174     0.0818      0.057     0.0305\n",
            "\n",
            "      Epoch    GPU_mem   box_loss   cls_loss   dfl_loss  Instances       Size\n",
            "\u001b[K       4/50      2.66G      1.621      3.318      1.226         44        640: 100% ━━━━━━━━━━━━ 8/8 2.9it/s 2.8s\n",
            "\u001b[K                 Class     Images  Instances      Box(P          R      mAP50  mAP50-95): 100% ━━━━━━━━━━━━ 1/1 1.9it/s 0.5s\n",
            "                   all         32        477     0.0186      0.105     0.0701     0.0385\n",
            "\n",
            "      Epoch    GPU_mem   box_loss   cls_loss   dfl_loss  Instances       Size\n",
            "\u001b[K       5/50      2.68G      1.645      3.094       1.24         30        640: 100% ━━━━━━━━━━━━ 8/8 4.0it/s 2.0s\n",
            "\u001b[K                 Class     Images  Instances      Box(P          R      mAP50  mAP50-95): 100% ━━━━━━━━━━━━ 1/1 5.5it/s 0.2s\n",
            "                   all         32        477     0.0174       0.11     0.0665     0.0366\n",
            "\n",
            "      Epoch    GPU_mem   box_loss   cls_loss   dfl_loss  Instances       Size\n",
            "\u001b[K       6/50      2.69G      1.613      2.703      1.227         39        640: 100% ━━━━━━━━━━━━ 8/8 4.5it/s 1.8s\n",
            "\u001b[K                 Class     Images  Instances      Box(P          R      mAP50  mAP50-95): 100% ━━━━━━━━━━━━ 1/1 5.6it/s 0.2s\n",
            "                   all         32        477     0.0202       0.13     0.0721     0.0394\n",
            "\n",
            "      Epoch    GPU_mem   box_loss   cls_loss   dfl_loss  Instances       Size\n",
            "\u001b[K       7/50      2.71G       1.71      2.502      1.293         18        640: 100% ━━━━━━━━━━━━ 8/8 4.5it/s 1.8s\n",
            "\u001b[K                 Class     Images  Instances      Box(P          R      mAP50  mAP50-95): 100% ━━━━━━━━━━━━ 1/1 4.4it/s 0.2s\n",
            "                   all         32        477     0.0225      0.108     0.0572       0.03\n",
            "\n",
            "      Epoch    GPU_mem   box_loss   cls_loss   dfl_loss  Instances       Size\n",
            "\u001b[K       8/50      2.72G      1.616      2.277      1.228         34        640: 100% ━━━━━━━━━━━━ 8/8 4.5it/s 1.8s\n",
            "\u001b[K                 Class     Images  Instances      Box(P          R      mAP50  mAP50-95): 100% ━━━━━━━━━━━━ 1/1 5.1it/s 0.2s\n",
            "                   all         32        477     0.0225      0.153     0.0898     0.0495\n",
            "\n",
            "      Epoch    GPU_mem   box_loss   cls_loss   dfl_loss  Instances       Size\n",
            "\u001b[K       9/50      2.74G      1.582       2.09      1.222         58        640: 100% ━━━━━━━━━━━━ 8/8 3.3it/s 2.5s\n",
            "\u001b[K                 Class     Images  Instances      Box(P          R      mAP50  mAP50-95): 100% ━━━━━━━━━━━━ 1/1 2.8it/s 0.4s\n",
            "                   all         32        477     0.0263      0.179      0.104     0.0588\n",
            "\n",
            "      Epoch    GPU_mem   box_loss   cls_loss   dfl_loss  Instances       Size\n",
            "\u001b[K      10/50      2.76G      1.618      1.934      1.213         64        640: 100% ━━━━━━━━━━━━ 8/8 3.4it/s 2.3s\n",
            "\u001b[K                 Class     Images  Instances      Box(P          R      mAP50  mAP50-95): 100% ━━━━━━━━━━━━ 1/1 5.1it/s 0.2s\n",
            "                   all         32        477     0.0284      0.288      0.145     0.0814\n",
            "\n",
            "      Epoch    GPU_mem   box_loss   cls_loss   dfl_loss  Instances       Size\n",
            "\u001b[K      11/50      2.77G      1.541      1.796      1.206         35        640: 100% ━━━━━━━━━━━━ 8/8 4.4it/s 1.8s\n",
            "\u001b[K                 Class     Images  Instances      Box(P          R      mAP50  mAP50-95): 100% ━━━━━━━━━━━━ 1/1 5.4it/s 0.2s\n",
            "                   all         32        477      0.973     0.0571      0.203      0.116\n",
            "\n",
            "      Epoch    GPU_mem   box_loss   cls_loss   dfl_loss  Instances       Size\n",
            "\u001b[K      12/50      2.79G      1.474      1.782      1.183         64        640: 100% ━━━━━━━━━━━━ 8/8 4.6it/s 1.7s\n",
            "\u001b[K                 Class     Images  Instances      Box(P          R      mAP50  mAP50-95): 100% ━━━━━━━━━━━━ 1/1 5.5it/s 0.2s\n",
            "                   all         32        477      0.779      0.112      0.253      0.142\n",
            "\n",
            "      Epoch    GPU_mem   box_loss   cls_loss   dfl_loss  Instances       Size\n",
            "\u001b[K      13/50       2.8G      1.437      1.629      1.164         38        640: 100% ━━━━━━━━━━━━ 8/8 4.3it/s 1.9s\n",
            "\u001b[K                 Class     Images  Instances      Box(P          R      mAP50  mAP50-95): 100% ━━━━━━━━━━━━ 1/1 5.3it/s 0.2s\n",
            "                   all         32        477      0.769      0.221      0.281      0.156\n",
            "\n",
            "      Epoch    GPU_mem   box_loss   cls_loss   dfl_loss  Instances       Size\n",
            "\u001b[K      14/50      2.82G      1.405      1.527      1.168         52        640: 100% ━━━━━━━━━━━━ 8/8 3.9it/s 2.0s\n",
            "\u001b[K                 Class     Images  Instances      Box(P          R      mAP50  mAP50-95): 100% ━━━━━━━━━━━━ 1/1 3.5it/s 0.3s\n",
            "                   all         32        477      0.684      0.265      0.321      0.179\n",
            "\n",
            "      Epoch    GPU_mem   box_loss   cls_loss   dfl_loss  Instances       Size\n",
            "\u001b[K      15/50      2.83G      1.456      1.558      1.191         38        640: 100% ━━━━━━━━━━━━ 8/8 3.0it/s 2.7s\n",
            "\u001b[K                 Class     Images  Instances      Box(P          R      mAP50  mAP50-95): 100% ━━━━━━━━━━━━ 1/1 4.9it/s 0.2s\n",
            "                   all         32        477      0.691      0.285      0.356      0.205\n",
            "\n",
            "      Epoch    GPU_mem   box_loss   cls_loss   dfl_loss  Instances       Size\n",
            "\u001b[K      16/50      2.85G      1.451      1.437      1.182         62        640: 100% ━━━━━━━━━━━━ 8/8 5.0it/s 1.6s\n",
            "\u001b[K                 Class     Images  Instances      Box(P          R      mAP50  mAP50-95): 100% ━━━━━━━━━━━━ 1/1 3.6it/s 0.3s\n",
            "                   all         32        477       0.68      0.306      0.379      0.223\n",
            "\n",
            "      Epoch    GPU_mem   box_loss   cls_loss   dfl_loss  Instances       Size\n",
            "\u001b[K      17/50      2.86G      1.406      1.404      1.158         59        640: 100% ━━━━━━━━━━━━ 8/8 4.5it/s 1.8s\n",
            "\u001b[K                 Class     Images  Instances      Box(P          R      mAP50  mAP50-95): 100% ━━━━━━━━━━━━ 1/1 5.2it/s 0.2s\n",
            "                   all         32        477      0.739      0.282      0.387      0.229\n",
            "\n",
            "      Epoch    GPU_mem   box_loss   cls_loss   dfl_loss  Instances       Size\n",
            "\u001b[K      18/50      3.03G      1.387      1.386       1.17         59        640: 100% ━━━━━━━━━━━━ 8/8 4.7it/s 1.7s\n",
            "\u001b[K                 Class     Images  Instances      Box(P          R      mAP50  mAP50-95): 100% ━━━━━━━━━━━━ 1/1 5.1it/s 0.2s\n",
            "                   all         32        477      0.758      0.309      0.403      0.242\n",
            "\n",
            "      Epoch    GPU_mem   box_loss   cls_loss   dfl_loss  Instances       Size\n",
            "\u001b[K      19/50      3.04G      1.423      1.349      1.147         89        640: 100% ━━━━━━━━━━━━ 8/8 4.6it/s 1.8s\n",
            "\u001b[K                 Class     Images  Instances      Box(P          R      mAP50  mAP50-95): 100% ━━━━━━━━━━━━ 1/1 5.1it/s 0.2s\n",
            "                   all         32        477      0.358      0.435      0.427      0.253\n",
            "\n",
            "      Epoch    GPU_mem   box_loss   cls_loss   dfl_loss  Instances       Size\n",
            "\u001b[K      20/50      3.06G      1.338      1.381      1.161         17        640: 100% ━━━━━━━━━━━━ 8/8 3.1it/s 2.6s\n",
            "\u001b[K                 Class     Images  Instances      Box(P          R      mAP50  mAP50-95): 100% ━━━━━━━━━━━━ 1/1 2.3it/s 0.4s\n",
            "                   all         32        477       0.51      0.436      0.441      0.268\n",
            "\n",
            "      Epoch    GPU_mem   box_loss   cls_loss   dfl_loss  Instances       Size\n",
            "\u001b[K      21/50      3.07G      1.363      1.259      1.135         42        640: 100% ━━━━━━━━━━━━ 8/8 4.3it/s 1.9s\n",
            "\u001b[K                 Class     Images  Instances      Box(P          R      mAP50  mAP50-95): 100% ━━━━━━━━━━━━ 1/1 5.3it/s 0.2s\n",
            "                   all         32        477      0.505      0.422      0.446      0.269\n",
            "\n",
            "      Epoch    GPU_mem   box_loss   cls_loss   dfl_loss  Instances       Size\n",
            "\u001b[K      22/50      3.09G      1.329      1.258      1.107         46        640: 100% ━━━━━━━━━━━━ 8/8 4.6it/s 1.7s\n",
            "\u001b[K                 Class     Images  Instances      Box(P          R      mAP50  mAP50-95): 100% ━━━━━━━━━━━━ 1/1 5.2it/s 0.2s\n",
            "                   all         32        477      0.521      0.441      0.457      0.268\n",
            "\n",
            "      Epoch    GPU_mem   box_loss   cls_loss   dfl_loss  Instances       Size\n",
            "\u001b[K      23/50       3.1G      1.344      1.258      1.158         41        640: 100% ━━━━━━━━━━━━ 8/8 4.7it/s 1.7s\n",
            "\u001b[K                 Class     Images  Instances      Box(P          R      mAP50  mAP50-95): 100% ━━━━━━━━━━━━ 1/1 4.1it/s 0.2s\n",
            "                   all         32        477       0.57      0.456      0.469      0.299\n",
            "\n",
            "      Epoch    GPU_mem   box_loss   cls_loss   dfl_loss  Instances       Size\n",
            "\u001b[K      24/50      3.12G      1.402      1.932      1.175          3        640: 100% ━━━━━━━━━━━━ 8/8 4.5it/s 1.8s\n",
            "\u001b[K                 Class     Images  Instances      Box(P          R      mAP50  mAP50-95): 100% ━━━━━━━━━━━━ 1/1 5.3it/s 0.2s\n",
            "                   all         32        477      0.589      0.473      0.484      0.309\n",
            "\n",
            "      Epoch    GPU_mem   box_loss   cls_loss   dfl_loss  Instances       Size\n",
            "\u001b[K      25/50      3.13G      1.274       1.19      1.116         66        640: 100% ━━━━━━━━━━━━ 8/8 3.1it/s 2.6s\n",
            "\u001b[K                 Class     Images  Instances      Box(P          R      mAP50  mAP50-95): 100% ━━━━━━━━━━━━ 1/1 3.3it/s 0.3s\n",
            "                   all         32        477      0.664      0.464      0.518      0.329\n",
            "\n",
            "      Epoch    GPU_mem   box_loss   cls_loss   dfl_loss  Instances       Size\n",
            "\u001b[K      26/50      3.15G      1.235      1.197      1.088         31        640: 100% ━━━━━━━━━━━━ 8/8 3.7it/s 2.2s\n",
            "\u001b[K                 Class     Images  Instances      Box(P          R      mAP50  mAP50-95): 100% ━━━━━━━━━━━━ 1/1 5.0it/s 0.2s\n",
            "                   all         32        477       0.51      0.489      0.525      0.333\n",
            "\n",
            "      Epoch    GPU_mem   box_loss   cls_loss   dfl_loss  Instances       Size\n",
            "\u001b[K      27/50      3.17G      1.277      1.289      1.121         21        640: 100% ━━━━━━━━━━━━ 8/8 4.5it/s 1.8s\n",
            "\u001b[K                 Class     Images  Instances      Box(P          R      mAP50  mAP50-95): 100% ━━━━━━━━━━━━ 1/1 5.1it/s 0.2s\n",
            "                   all         32        477      0.677      0.459      0.524      0.338\n",
            "\n",
            "      Epoch    GPU_mem   box_loss   cls_loss   dfl_loss  Instances       Size\n",
            "\u001b[K      28/50      3.18G      1.298      1.209      1.141         34        640: 100% ━━━━━━━━━━━━ 8/8 4.9it/s 1.6s\n",
            "\u001b[K                 Class     Images  Instances      Box(P          R      mAP50  mAP50-95): 100% ━━━━━━━━━━━━ 1/1 3.5it/s 0.3s\n",
            "                   all         32        477      0.651      0.495      0.542      0.353\n",
            "\n",
            "      Epoch    GPU_mem   box_loss   cls_loss   dfl_loss  Instances       Size\n",
            "\u001b[K      29/50      3.19G      1.199      1.142      1.081         36        640: 100% ━━━━━━━━━━━━ 8/8 4.7it/s 1.7s\n",
            "\u001b[K                 Class     Images  Instances      Box(P          R      mAP50  mAP50-95): 100% ━━━━━━━━━━━━ 1/1 4.9it/s 0.2s\n",
            "                   all         32        477      0.537      0.503      0.546       0.36\n",
            "\n",
            "      Epoch    GPU_mem   box_loss   cls_loss   dfl_loss  Instances       Size\n",
            "\u001b[K      30/50      3.21G      1.228      1.146       1.08         57        640: 100% ━━━━━━━━━━━━ 8/8 4.3it/s 1.9s\n",
            "\u001b[K                 Class     Images  Instances      Box(P          R      mAP50  mAP50-95): 100% ━━━━━━━━━━━━ 1/1 2.4it/s 0.4s\n",
            "                   all         32        477       0.66      0.491      0.541      0.357\n",
            "\n",
            "      Epoch    GPU_mem   box_loss   cls_loss   dfl_loss  Instances       Size\n",
            "\u001b[K      31/50      3.22G      1.228      1.147      1.079         71        640: 100% ━━━━━━━━━━━━ 8/8 2.7it/s 3.0s\n",
            "\u001b[K                 Class     Images  Instances      Box(P          R      mAP50  mAP50-95): 100% ━━━━━━━━━━━━ 1/1 2.2it/s 0.5s\n",
            "                   all         32        477      0.533      0.524      0.559      0.373\n",
            "\n",
            "      Epoch    GPU_mem   box_loss   cls_loss   dfl_loss  Instances       Size\n",
            "\u001b[K      32/50      3.24G      1.167      1.083      1.076         56        640: 100% ━━━━━━━━━━━━ 8/8 3.8it/s 2.1s\n",
            "\u001b[K                 Class     Images  Instances      Box(P          R      mAP50  mAP50-95): 100% ━━━━━━━━━━━━ 1/1 4.8it/s 0.2s\n",
            "                   all         32        477      0.696       0.55      0.585      0.393\n",
            "\n",
            "      Epoch    GPU_mem   box_loss   cls_loss   dfl_loss  Instances       Size\n",
            "\u001b[K      33/50      3.25G      1.195      1.058      1.077         59        640: 100% ━━━━━━━━━━━━ 8/8 4.5it/s 1.8s\n",
            "\u001b[K                 Class     Images  Instances      Box(P          R      mAP50  mAP50-95): 100% ━━━━━━━━━━━━ 1/1 3.6it/s 0.3s\n",
            "                   all         32        477      0.745      0.533        0.6      0.392\n",
            "\n",
            "      Epoch    GPU_mem   box_loss   cls_loss   dfl_loss  Instances       Size\n",
            "\u001b[K      34/50      3.43G      1.211      1.099      1.084         53        640: 100% ━━━━━━━━━━━━ 8/8 4.8it/s 1.7s\n",
            "\u001b[K                 Class     Images  Instances      Box(P          R      mAP50  mAP50-95): 100% ━━━━━━━━━━━━ 1/1 5.3it/s 0.2s\n",
            "                   all         32        477      0.603      0.549      0.607      0.395\n",
            "\n",
            "      Epoch    GPU_mem   box_loss   cls_loss   dfl_loss  Instances       Size\n",
            "\u001b[K      35/50      3.45G      1.169      1.083       1.06         19        640: 100% ━━━━━━━━━━━━ 8/8 4.4it/s 1.8s\n",
            "\u001b[K                 Class     Images  Instances      Box(P          R      mAP50  mAP50-95): 100% ━━━━━━━━━━━━ 1/1 5.2it/s 0.2s\n",
            "                   all         32        477      0.569      0.551      0.608      0.405\n",
            "\n",
            "      Epoch    GPU_mem   box_loss   cls_loss   dfl_loss  Instances       Size\n",
            "\u001b[K      36/50      3.46G      1.193      1.043      1.047         73        640: 100% ━━━━━━━━━━━━ 8/8 3.2it/s 2.5s\n",
            "\u001b[K                 Class     Images  Instances      Box(P          R      mAP50  mAP50-95): 100% ━━━━━━━━━━━━ 1/1 2.8it/s 0.4s\n",
            "                   all         32        477      0.656      0.506      0.606      0.402\n",
            "\n",
            "      Epoch    GPU_mem   box_loss   cls_loss   dfl_loss  Instances       Size\n",
            "\u001b[K      37/50      3.47G      1.172      1.067      1.066         39        640: 100% ━━━━━━━━━━━━ 8/8 4.1it/s 2.0s\n",
            "\u001b[K                 Class     Images  Instances      Box(P          R      mAP50  mAP50-95): 100% ━━━━━━━━━━━━ 1/1 5.0it/s 0.2s\n",
            "                   all         32        477      0.659      0.523      0.613        0.4\n",
            "\n",
            "      Epoch    GPU_mem   box_loss   cls_loss   dfl_loss  Instances       Size\n",
            "\u001b[K      38/50      3.49G      1.209      1.071      1.032         46        640: 100% ━━━━━━━━━━━━ 8/8 4.7it/s 1.7s\n",
            "\u001b[K                 Class     Images  Instances      Box(P          R      mAP50  mAP50-95): 100% ━━━━━━━━━━━━ 1/1 4.6it/s 0.2s\n",
            "                   all         32        477      0.621      0.563      0.617      0.406\n",
            "\n",
            "      Epoch    GPU_mem   box_loss   cls_loss   dfl_loss  Instances       Size\n",
            "\u001b[K      39/50       3.5G      1.072          1      1.043         45        640: 100% ━━━━━━━━━━━━ 8/8 4.6it/s 1.7s\n",
            "\u001b[K                 Class     Images  Instances      Box(P          R      mAP50  mAP50-95): 100% ━━━━━━━━━━━━ 1/1 5.4it/s 0.2s\n",
            "                   all         32        477      0.796      0.511       0.62      0.416\n",
            "\n",
            "      Epoch    GPU_mem   box_loss   cls_loss   dfl_loss  Instances       Size\n",
            "\u001b[K      40/50      3.52G      1.156      1.027      1.052         71        640: 100% ━━━━━━━━━━━━ 8/8 4.9it/s 1.6s\n",
            "\u001b[K                 Class     Images  Instances      Box(P          R      mAP50  mAP50-95): 100% ━━━━━━━━━━━━ 1/1 4.0it/s 0.3s\n",
            "                   all         32        477      0.814      0.511      0.619      0.417\n",
            "Closing dataloader mosaic\n",
            "\u001b[34m\u001b[1malbumentations: \u001b[0mBlur(p=0.01, blur_limit=(3, 7)), MedianBlur(p=0.01, blur_limit=(3, 7)), ToGray(p=0.01, method='weighted_average', num_output_channels=3), CLAHE(p=0.01, clip_limit=(1.0, 4.0), tile_grid_size=(8, 8))\n",
            "\n",
            "      Epoch    GPU_mem   box_loss   cls_loss   dfl_loss  Instances       Size\n",
            "\u001b[K      41/50      3.53G      1.089       1.18       1.03         24        640: 100% ━━━━━━━━━━━━ 8/8 1.4it/s 5.6s\n",
            "\u001b[K                 Class     Images  Instances      Box(P          R      mAP50  mAP50-95): 100% ━━━━━━━━━━━━ 1/1 2.2it/s 0.4s\n",
            "                   all         32        477      0.815        0.5      0.616       0.41\n",
            "\n",
            "      Epoch    GPU_mem   box_loss   cls_loss   dfl_loss  Instances       Size\n",
            "\u001b[K      42/50      3.55G      1.092      1.109      1.023         27        640: 100% ━━━━━━━━━━━━ 8/8 4.5it/s 1.8s\n",
            "\u001b[K                 Class     Images  Instances      Box(P          R      mAP50  mAP50-95): 100% ━━━━━━━━━━━━ 1/1 4.0it/s 0.3s\n",
            "                   all         32        477      0.763      0.495      0.605      0.404\n",
            "\n",
            "      Epoch    GPU_mem   box_loss   cls_loss   dfl_loss  Instances       Size\n",
            "\u001b[K      43/50      3.56G      1.044      1.052      1.006         30        640: 100% ━━━━━━━━━━━━ 8/8 4.5it/s 1.8s\n",
            "\u001b[K                 Class     Images  Instances      Box(P          R      mAP50  mAP50-95): 100% ━━━━━━━━━━━━ 1/1 5.2it/s 0.2s\n",
            "                   all         32        477      0.621      0.505      0.604      0.399\n",
            "\n",
            "      Epoch    GPU_mem   box_loss   cls_loss   dfl_loss  Instances       Size\n",
            "\u001b[K      44/50      3.58G       1.06      1.037      1.025         33        640: 100% ━━━━━━━━━━━━ 8/8 4.8it/s 1.7s\n",
            "\u001b[K                 Class     Images  Instances      Box(P          R      mAP50  mAP50-95): 100% ━━━━━━━━━━━━ 1/1 5.1it/s 0.2s\n",
            "                   all         32        477      0.572      0.553      0.613      0.402\n",
            "\n",
            "      Epoch    GPU_mem   box_loss   cls_loss   dfl_loss  Instances       Size\n",
            "\u001b[K      45/50      3.59G      1.049      1.046      1.016         28        640: 100% ━━━━━━━━━━━━ 8/8 4.4it/s 1.8s\n",
            "\u001b[K                 Class     Images  Instances      Box(P          R      mAP50  mAP50-95): 100% ━━━━━━━━━━━━ 1/1 4.1it/s 0.2s\n",
            "                   all         32        477      0.572      0.636      0.623      0.404\n",
            "\n",
            "      Epoch    GPU_mem   box_loss   cls_loss   dfl_loss  Instances       Size\n",
            "\u001b[K      46/50      3.61G      1.022      1.015      1.011         28        640: 100% ━━━━━━━━━━━━ 8/8 3.0it/s 2.7s\n",
            "\u001b[K                 Class     Images  Instances      Box(P          R      mAP50  mAP50-95): 100% ━━━━━━━━━━━━ 1/1 4.3it/s 0.2s\n",
            "                   all         32        477      0.578      0.646       0.63      0.407\n",
            "\n",
            "      Epoch    GPU_mem   box_loss   cls_loss   dfl_loss  Instances       Size\n",
            "\u001b[K      47/50      3.62G      1.029      1.001      1.001         40        640: 100% ━━━━━━━━━━━━ 8/8 4.3it/s 1.9s\n",
            "\u001b[K                 Class     Images  Instances      Box(P          R      mAP50  mAP50-95): 100% ━━━━━━━━━━━━ 1/1 5.0it/s 0.2s\n",
            "                   all         32        477      0.602      0.637      0.636      0.406\n",
            "\n",
            "      Epoch    GPU_mem   box_loss   cls_loss   dfl_loss  Instances       Size\n",
            "\u001b[K      48/50      3.64G       1.04      1.003      1.002         21        640: 100% ━━━━━━━━━━━━ 8/8 4.9it/s 1.6s\n",
            "\u001b[K                 Class     Images  Instances      Box(P          R      mAP50  mAP50-95): 100% ━━━━━━━━━━━━ 1/1 4.9it/s 0.2s\n",
            "                   all         32        477      0.611      0.639      0.637      0.409\n",
            "\n",
            "      Epoch    GPU_mem   box_loss   cls_loss   dfl_loss  Instances       Size\n",
            "\u001b[K      49/50      3.65G       1.02      0.977      1.014         25        640: 100% ━━━━━━━━━━━━ 8/8 4.8it/s 1.7s\n",
            "\u001b[K                 Class     Images  Instances      Box(P          R      mAP50  mAP50-95): 100% ━━━━━━━━━━━━ 1/1 5.3it/s 0.2s\n",
            "                   all         32        477      0.612      0.641      0.641      0.413\n",
            "\n",
            "      Epoch    GPU_mem   box_loss   cls_loss   dfl_loss  Instances       Size\n",
            "\u001b[K      50/50      3.67G      1.152      1.262      1.012          9        640: 100% ━━━━━━━━━━━━ 8/8 4.6it/s 1.7s\n",
            "\u001b[K                 Class     Images  Instances      Box(P          R      mAP50  mAP50-95): 100% ━━━━━━━━━━━━ 1/1 4.6it/s 0.2s\n",
            "                   all         32        477      0.613      0.626      0.642      0.418\n",
            "\n",
            "50 epochs completed in 0.045 hours.\n",
            "Optimizer stripped from /content/runs/detect/custom_yolo11n3/weights/last.pt, 5.5MB\n",
            "Optimizer stripped from /content/runs/detect/custom_yolo11n3/weights/best.pt, 5.5MB\n",
            "\n",
            "Validating /content/runs/detect/custom_yolo11n3/weights/best.pt...\n",
            "Ultralytics 8.3.205 🚀 Python-3.12.11 torch-2.8.0+cu126 CUDA:0 (Tesla T4, 15095MiB)\n",
            "YOLO11n summary (fused): 100 layers, 2,583,907 parameters, 0 gradients, 6.3 GFLOPs\n",
            "\u001b[K                 Class     Images  Instances      Box(P          R      mAP50  mAP50-95): 100% ━━━━━━━━━━━━ 1/1 3.7it/s 0.3s\n",
            "                   all         32        477      0.613      0.627      0.642      0.418\n",
            "                  Ball         18         18      0.681      0.111      0.177      0.123\n",
            "                  Hoop         22         22      0.872      0.927      0.907      0.629\n",
            "                Period         22         23      0.531      0.478      0.531      0.265\n",
            "                Player         31        253      0.829      0.842      0.898      0.585\n",
            "                   Ref         28         55      0.803        0.8      0.846      0.581\n",
            "            Shot Clock         19         19        0.1     0.0526      0.232      0.134\n",
            "             Team Name         10         20      0.666      0.796      0.797      0.498\n",
            "           Team Points         22         45      0.637      0.867      0.826      0.563\n",
            "        Time Remaining         22         22      0.398      0.773      0.563      0.386\n",
            "Speed: 0.1ms preprocess, 1.8ms inference, 0.0ms loss, 2.3ms postprocess per image\n",
            "Results saved to \u001b[1m/content/runs/detect/custom_yolo11n3\u001b[0m\n",
            "Training completed!\n"
          ]
        }
      ],
      "source": [
        "# STEP 2: TRAIN CUSTOM YOLO11 MODEL\n",
        "\n",
        "import torch # Import torch\n",
        "\n",
        "# Define the dataset path again to ensure it's correct in this cell\n",
        "PROJECT_NAME = \"basketball-players-fy4c2-e42zi\"\n",
        "VERSION = 1\n",
        "dataset_path = \"/content/Basketball-Players-1\"\n",
        "\n",
        "model = YOLO(\"yolo11n.pt\")  # Nano model — fastest for training/inference\n",
        "\n",
        "print(\"\\nStarting training...\")\n",
        "results = model.train(\n",
        "    data=f\"{dataset_path}/data.yaml\",  # Path to data.yaml\n",
        "    epochs=50,\n",
        "    imgsz=640,\n",
        "    batch=16,\n",
        "    name=\"custom_yolo11n\",\n",
        "    device=0 if torch.cuda.is_available() else 'cpu'  # Use GPU if available\n",
        ")\n",
        "\n",
        "print(\"Training completed!\")"
      ]
    },
    {
      "cell_type": "code",
      "execution_count": 9,
      "metadata": {
        "id": "vPbGU-JJkAlc"
      },
      "outputs": [],
      "source": [
        "# STEP 3: BATCH INFERENCE ON TEST IMAGES\n",
        "# Get test images from the dataset's test folder\n",
        "test_images_folder = f\"{dataset_path}/test/images\"\n"
      ]
    },
    {
      "cell_type": "code",
      "execution_count": 10,
      "metadata": {
        "id": "imeCfNuQkGiG"
      },
      "outputs": [],
      "source": [
        "# Create output folder\n",
        "output_folder = \"output\"\n",
        "os.makedirs(output_folder, exist_ok=True)"
      ]
    },
    {
      "cell_type": "code",
      "execution_count": 11,
      "metadata": {
        "id": "ubUBHyAVkbll",
        "colab": {
          "base_uri": "https://localhost:8080/"
        },
        "outputId": "98757c2a-5984-4a8f-8c31-753eeafdf0d3"
      },
      "outputs": [
        {
          "output_type": "stream",
          "name": "stdout",
          "text": [
            "\n",
            "Found 24 test images. Running inference...\n"
          ]
        }
      ],
      "source": [
        "# List all test images (jpg, png, jpeg)\n",
        "test_images = [f for f in os.listdir(test_images_folder)\n",
        "               if f.lower().endswith(('.jpg', '.jpeg', '.png'))]\n",
        "\n",
        "print(f\"\\nFound {len(test_images)} test images. Running inference...\")"
      ]
    },
    {
      "cell_type": "code",
      "execution_count": 16,
      "metadata": {
        "id": "GlteE6YbkfCT",
        "colab": {
          "base_uri": "https://localhost:8080/"
        },
        "outputId": "9a07fd29-c22b-49dd-e752-4c43a1040783"
      },
      "outputs": [
        {
          "output_type": "stream",
          "name": "stdout",
          "text": [
            "\n",
            "image 1/24 /content/Basketball-Players-1/test/images/Iowa_Nebraska-2023-03-06-college-men_mp4-106_jpg.rf.58f791f9075215a56c053df5a4da41e3.jpg: 384x640 1 Hoop, 11 Players, 2 Refs, 49.7ms\n",
            "image 2/24 /content/Basketball-Players-1/test/images/Iowa_Nebraska-2023-03-06-college-men_mp4-124_jpg.rf.9ab4d3c4f1655d8d518d67365b76a7d9.jpg: 384x640 1 Hoop, 12 Players, 3 Refs, 10.1ms\n",
            "image 3/24 /content/Basketball-Players-1/test/images/Iowa_Nebraska-2023-03-06-college-men_mp4-97_jpg.rf.22bbfcd6b03d2e0935b76558d9917a75.jpg: 384x640 1 Hoop, 13 Players, 2 Refs, 8.0ms\n",
            "image 4/24 /content/Basketball-Players-1/test/images/youtube-0_jpg.rf.b22c9e3340726a8c836515dfc12f14b8.jpg: 384x640 13 Players, 2 Refs, 2 Team Pointss, 2 Time Remainings, 8.5ms\n",
            "image 5/24 /content/Basketball-Players-1/test/images/youtube-114_jpg.rf.ff9b1f0ec33de13a86c7b9f583741d4d.jpg: 384x640 4 Players, 3 Team Pointss, 2 Time Remainings, 8.2ms\n",
            "image 6/24 /content/Basketball-Players-1/test/images/youtube-128_jpg.rf.030a921e404cae04553ed5c196d180c5.jpg: 384x640 1 Hoop, 11 Players, 3 Refs, 2 Team Pointss, 2 Time Remainings, 8.0ms\n",
            "image 7/24 /content/Basketball-Players-1/test/images/youtube-137_jpg.rf.214bf8a0664431c585fd90d8906c7fc7.jpg: 384x640 5 Players, 1 Ref, 8.6ms\n",
            "image 8/24 /content/Basketball-Players-1/test/images/youtube-13_jpg.rf.a777dbe3471edec0664f442edd7dd12e.jpg: 384x640 1 Hoop, 1 Period, 11 Players, 2 Refs, 2 Team Names, 2 Team Pointss, 3 Time Remainings, 8.0ms\n",
            "image 9/24 /content/Basketball-Players-1/test/images/youtube-151_jpg.rf.86922c0d0bb231656353add33233c22a.jpg: 384x640 2 Players, 2 Team Pointss, 1 Time Remaining, 7.8ms\n",
            "image 10/24 /content/Basketball-Players-1/test/images/youtube-153_jpg.rf.3932aa7247ad95a56420c82dd29f2bcf.jpg: 384x640 2 Hoops, 12 Players, 4 Refs, 3 Team Pointss, 1 Time Remaining, 8.0ms\n",
            "image 11/24 /content/Basketball-Players-1/test/images/youtube-15_jpg.rf.deab89215f9fb6fcadad7234b46c5d5d.jpg: 384x640 2 Balls, 2 Periods, 9 Players, 2 Refs, 2 Team Names, 3 Team Pointss, 2 Time Remainings, 7.7ms\n",
            "image 12/24 /content/Basketball-Players-1/test/images/youtube-161_jpg.rf.81de0b9109067d42d6e7381da05c596e.jpg: 384x640 1 Ball, 1 Hoop, 9 Players, 1 Ref, 1 Shot Clock, 3 Team Pointss, 2 Time Remainings, 7.9ms\n",
            "image 13/24 /content/Basketball-Players-1/test/images/youtube-186_jpg.rf.c832a91e030fbf5577f1a72dcfa999a2.jpg: 384x640 1 Hoop, 8 Players, 5 Refs, 1 Team Name, 6 Team Pointss, 2 Time Remainings, 8.0ms\n",
            "image 14/24 /content/Basketball-Players-1/test/images/youtube-18_jpg.rf.081f0a633214eda8c6ddae25bc423dc9.jpg: 384x640 2 Periods, 2 Players, 1 Shot Clock, 4 Team Pointss, 3 Time Remainings, 7.9ms\n",
            "image 15/24 /content/Basketball-Players-1/test/images/youtube-201_jpg.rf.6461310cae11facb5e80b1456f5eb21e.jpg: 384x640 5 Players, 3 Refs, 1 Team Name, 2 Team Pointss, 7.9ms\n",
            "image 16/24 /content/Basketball-Players-1/test/images/youtube-230_jpg.rf.d27e969ce96580f5bac466645343d68a.jpg: 384x640 11 Players, 6 Refs, 4 Team Pointss, 8.1ms\n",
            "image 17/24 /content/Basketball-Players-1/test/images/youtube-23_jpg.rf.0456f7fe54cb39c07776fe9a80a40ae4.jpg: 384x640 1 Hoop, 1 Period, 9 Players, 4 Refs, 1 Shot Clock, 4 Team Pointss, 1 Time Remaining, 8.3ms\n",
            "image 18/24 /content/Basketball-Players-1/test/images/youtube-29_jpg.rf.00b20fec582aeb507e191cdf09dcf540.jpg: 384x640 1 Hoop, 9 Players, 3 Refs, 1 Shot Clock, 3 Team Pointss, 3 Time Remainings, 8.3ms\n",
            "image 19/24 /content/Basketball-Players-1/test/images/youtube-2_jpg.rf.4f126ce80ed6e9775f3fcc08d01b2a14.jpg: 384x640 1 Hoop, 1 Period, 10 Players, 1 Ref, 2 Team Names, 2 Team Pointss, 1 Time Remaining, 8.0ms\n",
            "image 20/24 /content/Basketball-Players-1/test/images/youtube-47_jpg.rf.b7a80b69681780c44d0a6201ce0e2f0a.jpg: 384x640 1 Hoop, 1 Period, 7 Players, 2 Team Names, 3 Team Pointss, 2 Time Remainings, 8.0ms\n",
            "image 21/24 /content/Basketball-Players-1/test/images/youtube-48_jpg.rf.03e4461c0d593dd70e87ae52479764f3.jpg: 384x640 9 Players, 3 Refs, 1 Team Name, 3 Team Pointss, 1 Time Remaining, 8.7ms\n",
            "image 22/24 /content/Basketball-Players-1/test/images/youtube-65_jpg.rf.78dd2ac35e1ff02d5cf3232ac7182ce1.jpg: 384x640 1 Ball, 1 Hoop, 2 Periods, 3 Players, 1 Ref, 2 Team Names, 3 Team Pointss, 1 Time Remaining, 7.9ms\n",
            "image 23/24 /content/Basketball-Players-1/test/images/youtube-70_jpg.rf.c236f2a572f6ee4adcb3f67cc17d007e.jpg: 384x640 1 Hoop, 1 Period, 11 Players, 3 Refs, 3 Team Pointss, 2 Time Remainings, 9.0ms\n",
            "image 24/24 /content/Basketball-Players-1/test/images/youtube-9_jpg.rf.f1960ece0187489ee1d5d6b915f84ab7.jpg: 384x640 8 Players, 1 Ref, 7.8ms\n",
            "Speed: 1.9ms preprocess, 9.9ms inference, 1.3ms postprocess per image at shape (1, 3, 384, 640)\n"
          ]
        }
      ],
      "source": [
        "# Load trained model\n",
        "model = YOLO(\"/content/runs/detect/custom_yolo11n3/weights/best.pt\")\n",
        "\n",
        "# Perform inference on all test images\n",
        "results = model(test_images_folder)"
      ]
    },
    {
      "cell_type": "code",
      "execution_count": 17,
      "metadata": {
        "id": "BtMNE-tVkjns",
        "colab": {
          "base_uri": "https://localhost:8080/"
        },
        "outputId": "d68cc6fe-a1f4-4bab-f89a-acf6ad0ce0a9"
      },
      "outputs": [
        {
          "output_type": "stream",
          "name": "stdout",
          "text": [
            "Saved: output/youtube-0_jpg.rf.b22c9e3340726a8c836515dfc12f14b8.jpg\n",
            "Saved: output/youtube-65_jpg.rf.78dd2ac35e1ff02d5cf3232ac7182ce1.jpg\n",
            "Saved: output/youtube-13_jpg.rf.a777dbe3471edec0664f442edd7dd12e.jpg\n",
            "Saved: output/youtube-153_jpg.rf.3932aa7247ad95a56420c82dd29f2bcf.jpg\n",
            "Saved: output/youtube-29_jpg.rf.00b20fec582aeb507e191cdf09dcf540.jpg\n",
            "Saved: output/youtube-18_jpg.rf.081f0a633214eda8c6ddae25bc423dc9.jpg\n",
            "Saved: output/youtube-201_jpg.rf.6461310cae11facb5e80b1456f5eb21e.jpg\n",
            "Saved: output/youtube-114_jpg.rf.ff9b1f0ec33de13a86c7b9f583741d4d.jpg\n",
            "Saved: output/youtube-9_jpg.rf.f1960ece0187489ee1d5d6b915f84ab7.jpg\n",
            "Saved: output/youtube-230_jpg.rf.d27e969ce96580f5bac466645343d68a.jpg\n",
            "Saved: output/youtube-151_jpg.rf.86922c0d0bb231656353add33233c22a.jpg\n",
            "Saved: output/youtube-2_jpg.rf.4f126ce80ed6e9775f3fcc08d01b2a14.jpg\n",
            "Saved: output/youtube-23_jpg.rf.0456f7fe54cb39c07776fe9a80a40ae4.jpg\n",
            "Saved: output/youtube-15_jpg.rf.deab89215f9fb6fcadad7234b46c5d5d.jpg\n",
            "Saved: output/Iowa_Nebraska-2023-03-06-college-men_mp4-124_jpg.rf.9ab4d3c4f1655d8d518d67365b76a7d9.jpg\n",
            "Saved: output/youtube-70_jpg.rf.c236f2a572f6ee4adcb3f67cc17d007e.jpg\n",
            "Saved: output/youtube-47_jpg.rf.b7a80b69681780c44d0a6201ce0e2f0a.jpg\n",
            "Saved: output/Iowa_Nebraska-2023-03-06-college-men_mp4-106_jpg.rf.58f791f9075215a56c053df5a4da41e3.jpg\n",
            "Saved: output/youtube-48_jpg.rf.03e4461c0d593dd70e87ae52479764f3.jpg\n",
            "Saved: output/Iowa_Nebraska-2023-03-06-college-men_mp4-97_jpg.rf.22bbfcd6b03d2e0935b76558d9917a75.jpg\n",
            "\n",
            "🎉 Processed and saved results for the first 20 test images to 'output' folder.\n"
          ]
        }
      ],
      "source": [
        "# Loop through all test images\n",
        "for i, result in enumerate(results[:20]):  # Process first 20 images and iterate through results\n",
        "    img_file = test_images[i] # Get the original image filename\n",
        "    output_path = os.path.join(output_folder, img_file)\n",
        "\n",
        "    # Save result image with bounding boxes\n",
        "    result.save(filename=output_path)\n",
        "\n",
        "    print(f\"Saved: {output_path}\")\n",
        "\n",
        "print(f\"\\nProcessed and saved results for the first 20 test images to '{output_folder}' folder.\")"
      ]
    },
    {
      "cell_type": "code",
      "execution_count": 18,
      "metadata": {
        "id": "jKbzyeX4kplm",
        "colab": {
          "base_uri": "https://localhost:8080/",
          "height": 400
        },
        "outputId": "fa995bed-3182-4c18-a3f8-635811c4c22c"
      },
      "outputs": [
        {
          "output_type": "stream",
          "name": "stdout",
          "text": [
            "  adding: output/ (stored 0%)\n",
            "  adding: output/youtube-0_jpg.rf.b22c9e3340726a8c836515dfc12f14b8.jpg (deflated 3%)\n",
            "  adding: output/youtube-65_jpg.rf.78dd2ac35e1ff02d5cf3232ac7182ce1.jpg (deflated 3%)\n",
            "  adding: output/youtube-13_jpg.rf.a777dbe3471edec0664f442edd7dd12e.jpg (deflated 3%)\n",
            "  adding: output/youtube-153_jpg.rf.3932aa7247ad95a56420c82dd29f2bcf.jpg (deflated 3%)\n",
            "  adding: output/youtube-29_jpg.rf.00b20fec582aeb507e191cdf09dcf540.jpg (deflated 5%)\n",
            "  adding: output/youtube-18_jpg.rf.081f0a633214eda8c6ddae25bc423dc9.jpg (deflated 3%)\n",
            "  adding: output/youtube-201_jpg.rf.6461310cae11facb5e80b1456f5eb21e.jpg (deflated 4%)\n",
            "  adding: output/youtube-114_jpg.rf.ff9b1f0ec33de13a86c7b9f583741d4d.jpg (deflated 3%)\n",
            "  adding: output/youtube-9_jpg.rf.f1960ece0187489ee1d5d6b915f84ab7.jpg (deflated 10%)\n",
            "  adding: output/youtube-230_jpg.rf.d27e969ce96580f5bac466645343d68a.jpg (deflated 3%)\n",
            "  adding: output/youtube-151_jpg.rf.86922c0d0bb231656353add33233c22a.jpg (deflated 3%)\n",
            "  adding: output/youtube-2_jpg.rf.4f126ce80ed6e9775f3fcc08d01b2a14.jpg (deflated 4%)\n",
            "  adding: output/youtube-23_jpg.rf.0456f7fe54cb39c07776fe9a80a40ae4.jpg (deflated 4%)\n",
            "  adding: output/youtube-15_jpg.rf.deab89215f9fb6fcadad7234b46c5d5d.jpg (deflated 6%)\n",
            "  adding: output/Iowa_Nebraska-2023-03-06-college-men_mp4-124_jpg.rf.9ab4d3c4f1655d8d518d67365b76a7d9.jpg (deflated 4%)\n",
            "  adding: output/youtube-70_jpg.rf.c236f2a572f6ee4adcb3f67cc17d007e.jpg (deflated 3%)\n",
            "  adding: output/youtube-47_jpg.rf.b7a80b69681780c44d0a6201ce0e2f0a.jpg (deflated 3%)\n",
            "  adding: output/Iowa_Nebraska-2023-03-06-college-men_mp4-106_jpg.rf.58f791f9075215a56c053df5a4da41e3.jpg (deflated 3%)\n",
            "  adding: output/youtube-48_jpg.rf.03e4461c0d593dd70e87ae52479764f3.jpg (deflated 3%)\n",
            "  adding: output/Iowa_Nebraska-2023-03-06-college-men_mp4-97_jpg.rf.22bbfcd6b03d2e0935b76558d9917a75.jpg (deflated 3%)\n"
          ]
        },
        {
          "output_type": "display_data",
          "data": {
            "text/plain": [
              "<IPython.core.display.Javascript object>"
            ],
            "application/javascript": [
              "\n",
              "    async function download(id, filename, size) {\n",
              "      if (!google.colab.kernel.accessAllowed) {\n",
              "        return;\n",
              "      }\n",
              "      const div = document.createElement('div');\n",
              "      const label = document.createElement('label');\n",
              "      label.textContent = `Downloading \"${filename}\": `;\n",
              "      div.appendChild(label);\n",
              "      const progress = document.createElement('progress');\n",
              "      progress.max = size;\n",
              "      div.appendChild(progress);\n",
              "      document.body.appendChild(div);\n",
              "\n",
              "      const buffers = [];\n",
              "      let downloaded = 0;\n",
              "\n",
              "      const channel = await google.colab.kernel.comms.open(id);\n",
              "      // Send a message to notify the kernel that we're ready.\n",
              "      channel.send({})\n",
              "\n",
              "      for await (const message of channel.messages) {\n",
              "        // Send a message to notify the kernel that we're ready.\n",
              "        channel.send({})\n",
              "        if (message.buffers) {\n",
              "          for (const buffer of message.buffers) {\n",
              "            buffers.push(buffer);\n",
              "            downloaded += buffer.byteLength;\n",
              "            progress.value = downloaded;\n",
              "          }\n",
              "        }\n",
              "      }\n",
              "      const blob = new Blob(buffers, {type: 'application/binary'});\n",
              "      const a = document.createElement('a');\n",
              "      a.href = window.URL.createObjectURL(blob);\n",
              "      a.download = filename;\n",
              "      div.appendChild(a);\n",
              "      a.click();\n",
              "      div.remove();\n",
              "    }\n",
              "  "
            ]
          },
          "metadata": {}
        },
        {
          "output_type": "display_data",
          "data": {
            "text/plain": [
              "<IPython.core.display.Javascript object>"
            ],
            "application/javascript": [
              "download(\"download_50065760-e5ed-401e-b485-de14a4ea093b\", \"output.zip\", 9384826)"
            ]
          },
          "metadata": {}
        }
      ],
      "source": [
        "# Download output folder as ZIP\n",
        "from google.colab import files\n",
        "!zip -r output.zip output/\n",
        "files.download('output.zip')"
      ]
    },
    {
      "cell_type": "markdown",
      "metadata": {
        "id": "454243c6"
      },
      "source": [
        "**Key files to look for in `/content/runs/detect/custom_yolo11n3`:**\n",
        "\n",
        "*   **`results.csv`**: Contains detailed training metrics for each epoch (loss, precision, recall, mAP, etc.).\n",
        "*   **`confusion_matrix.png`**: Visualizes the performance of the model in terms of true positives, true negatives, false positives, and false negatives for each class.\n",
        "*   **`F1_curve.png`, `P_curve.png`, `R_curve.png`**: Plots of F1 score, Precision, and Recall against confidence thresholds.\n",
        "*   **`labels.jpg`**: Visualizations of the training and validation labels.\n",
        "*   **`train_batch*.jpg`, `val_batch*.jpg`**: Visualizations of training and validation batches with augmentation applied and bounding boxes.\n",
        "*   **`weights/`**: This folder contains the trained model weights (`best.pt` and `last.pt`)."
      ]
    }
  ],
  "metadata": {
    "colab": {
      "provenance": []
    },
    "kernelspec": {
      "display_name": "Python 3",
      "name": "python3"
    },
    "language_info": {
      "name": "python"
    }
  },
  "nbformat": 4,
  "nbformat_minor": 0
}